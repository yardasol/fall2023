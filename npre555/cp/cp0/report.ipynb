{
 "cells": [
  {
   "cell_type": "markdown",
   "id": "6df6a3f8",
   "metadata": {},
   "source": [
    "# NPRE 555 CP0 Report\n",
    "By Olek Yardas"
   ]
  },
  {
   "cell_type": "markdown",
   "id": "92ab99ad",
   "metadata": {},
   "source": [
    "### Methodology\n",
    "\n",
    "My code uses a `Particle` class to instantiate particles, which keeps track of their position and \n",
    "angle with functions for sampling new positions, angles, and methods for translating the partile as well as casuing \n",
    "a fission reaction.\n",
    "\n",
    "I assume a singular energy group for the particles, and likewise a single energy for all cross section data used in the code. The code simulates 1D problems (i.e. slabs infite in one direction), but uses two spatial coordinates when simulating particles to get the correct track lenghts.\n",
    "\n",
    "My code uses a simplified version of the method of successver generation to calculate $k_\\text{eff}$; within a single generation, the number of particles produced at each fission reaction are summed and divided by the number of particles simulated. The code also stores the location of each fission. In the next generation, the code uses the stored locations to spawn particles, simulating the fission process.\n",
    "\n",
    "My code estimates the flux both with a tracklength estimator and a collision estimator, and calculates both a global quantiy for these which is diplayed during runtime, as well as region-wise quanties which are stored in the `results.csv` file. For both the collision estimator and the tracklength estimator, the code uses the dimension of each reigon as a volume (the combined dimension of all regions in the global case), and gives unnormalized values for the flux."
   ]
  },
  {
   "cell_type": "markdown",
   "id": "9f78c95a",
   "metadata": {},
   "source": [
    "## Results"
   ]
  },
  {
   "cell_type": "markdown",
   "id": "5cfe3018",
   "metadata": {},
   "source": [
    "Running with `example_input.json` (120 batches, 25 inactive, 10k particles per batch) using the cross sections values and regions dimesnions specified in the handout, my code reports $k_\\text{eff} = 1.00158 +/- 0.00023$"
   ]
  },
  {
   "cell_type": "markdown",
   "id": "41b8a083",
   "metadata": {},
   "source": [
    "The flux results are below:"
   ]
  },
  {
   "cell_type": "code",
   "execution_count": 28,
   "id": "71dde2d4",
   "metadata": {},
   "outputs": [
    {
     "data": {
      "text/html": [
       "<div>\n",
       "<style scoped>\n",
       "    .dataframe tbody tr th:only-of-type {\n",
       "        vertical-align: middle;\n",
       "    }\n",
       "\n",
       "    .dataframe tbody tr th {\n",
       "        vertical-align: top;\n",
       "    }\n",
       "\n",
       "    .dataframe thead th {\n",
       "        text-align: right;\n",
       "    }\n",
       "</style>\n",
       "<table border=\"1\" class=\"dataframe\">\n",
       "  <thead>\n",
       "    <tr style=\"text-align: right;\">\n",
       "      <th></th>\n",
       "      <th>collision</th>\n",
       "      <th>tracklength</th>\n",
       "    </tr>\n",
       "    <tr>\n",
       "      <th>region_id</th>\n",
       "      <th></th>\n",
       "      <th></th>\n",
       "    </tr>\n",
       "  </thead>\n",
       "  <tbody>\n",
       "    <tr>\n",
       "      <th>1</th>\n",
       "      <td>0.104839</td>\n",
       "      <td>0.104991</td>\n",
       "    </tr>\n",
       "    <tr>\n",
       "      <th>2</th>\n",
       "      <td>0.068378</td>\n",
       "      <td>0.068261</td>\n",
       "    </tr>\n",
       "  </tbody>\n",
       "</table>\n",
       "</div>"
      ],
      "text/plain": [
       "           collision  tracklength\n",
       "region_id                        \n",
       "1           0.104839     0.104991\n",
       "2           0.068378     0.068261"
      ]
     },
     "execution_count": 28,
     "metadata": {},
     "output_type": "execute_result"
    }
   ],
   "source": [
    "import pandas as pd\n",
    "df = pd.read_csv('results.csv', index_col=0)\n",
    "df"
   ]
  },
  {
   "cell_type": "markdown",
   "id": "4ef93dc4",
   "metadata": {},
   "source": [
    "## Analysis\n",
    "Region 1 has $\\nu\\Sigma_f=0.15$ and Region 2 has $\\nu\\Sigma_f=0.12$, so it makes sense that the flux in region 1 is larger than the flux in Region 2."
   ]
  }
 ],
 "metadata": {
  "kernelspec": {
   "display_name": "Python 3 (ipykernel)",
   "language": "python",
   "name": "python3"
  },
  "language_info": {
   "codemirror_mode": {
    "name": "ipython",
    "version": 3
   },
   "file_extension": ".py",
   "mimetype": "text/x-python",
   "name": "python",
   "nbconvert_exporter": "python",
   "pygments_lexer": "ipython3",
   "version": "3.11.3"
  }
 },
 "nbformat": 4,
 "nbformat_minor": 5
}
