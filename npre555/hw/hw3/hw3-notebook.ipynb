{
 "cells": [
  {
   "cell_type": "code",
   "execution_count": 1,
   "id": "f21edf6f",
   "metadata": {},
   "outputs": [],
   "source": [
    "import matplotlib.pyplot as plt\n",
    "from matplotlib import rcParams\n",
    "import numpy as np\n",
    "import scipy.integrate as integrate\n",
    "\n",
    "rcParams['axes.autolimit_mode'] = 'round_numbers'\n",
    "rcParams['axes.labelsize'] = 'large'\n",
    "rcParams['axes.xmargin'] = 0\n",
    "rcParams['axes.ymargin'] = 0\n",
    "rcParams['axes.axisbelow'] = True\n",
    "rcParams['font.family'] = 'serif'\n",
    "rcParams['pdf.use14corefonts'] = True\n",
    "rcParams['savefig.bbox'] = 'tight'\n",
    "rcParams['font.size'] = 12.0\n",
    "rcParams['text.usetex'] = True\n",
    "rcParams['text.latex.preamble'] = r'\\usepackage{amsmath}'"
   ]
  },
  {
   "cell_type": "markdown",
   "id": "51bd6168",
   "metadata": {},
   "source": [
    "## Problem 3"
   ]
  },
  {
   "cell_type": "code",
   "execution_count": 2,
   "id": "e76d0c93",
   "metadata": {},
   "outputs": [],
   "source": [
    "# MeV\n",
    "xs = np.linspace(1e-2, 1e1, 100)\n",
    "\n",
    "def p(E):\n",
    "    a = 0.453\n",
    "    b = 1.036\n",
    "    c = 2.29\n",
    "\n",
    "    A = np.exp(-b*E + np.sqrt(c*E))\n",
    "    B = np.exp(-b*E - np.sqrt(c*E))\n",
    "\n",
    "    return a*0.5*(A-B)\n",
    "    \n",
    "def F(E):\n",
    "    r = []\n",
    "    for i, e in enumerate(E):\n",
    "        r += [integrate.quad(p, 0, e)]\n",
    "    return np.array(r)"
   ]
  },
  {
   "cell_type": "code",
   "execution_count": 3,
   "id": "ed0e4190",
   "metadata": {},
   "outputs": [],
   "source": [
    "fig, ax = plt.subplots()\n",
    "\n",
    "ax.plot(xs, F(xs))\n",
    "ax.grid()\n",
    "ax.set_xlabel('Energy (MeV)')\n",
    "ax.set_title('CDF for $\\chi(E)$')\n",
    "plt.savefig('hw3p3.png')\n",
    "plt.close(fig)"
   ]
  },
  {
   "cell_type": "markdown",
   "id": "ef5e9b2d",
   "metadata": {},
   "source": [
    "## Problem 4"
   ]
  },
  {
   "cell_type": "code",
   "execution_count": 4,
   "id": "a65a0f9f",
   "metadata": {},
   "outputs": [],
   "source": [
    "S_a = 0.15\n",
    "S_s = 0.08\n",
    "S_f = 0.08\n",
    "S_pa = S_a - S_f\n",
    "\n",
    "S_t = S_s + S_a\n",
    "\n",
    "# Bin for S_pa\n",
    "S_1 = S_pa / S_t\n",
    "\n",
    "# Bin for S_f\n",
    "S_2 = S_f / S_t"
   ]
  },
  {
   "cell_type": "code",
   "execution_count": 5,
   "id": "26a5ae98",
   "metadata": {},
   "outputs": [],
   "source": [
    "def p(X):\n",
    "    r = []\n",
    "    for x in X:\n",
    "        if x <= S_1:\n",
    "            i = S_1\n",
    "        elif x <= S_2 + S_1:\n",
    "            i = S_2\n",
    "        else:\n",
    "            i = S_s/S_t\n",
    "        r += [i]\n",
    "    return np.array(r)"
   ]
  },
  {
   "cell_type": "code",
   "execution_count": 6,
   "id": "1de3f542",
   "metadata": {},
   "outputs": [],
   "source": [
    "xs = np.linspace(0,1, 100)\n",
    "\n",
    "fig, ax = plt.subplots()\n",
    "ax.plot(xs, p(xs))\n",
    "ax.set_xlim(-0.1,1.1)\n",
    "ax.set_ylim(-0.1,1.1)\n",
    "ax.grid()\n",
    "ax.set_title('Cross Section Distribution')\n",
    "plt.text(S_1/2, S_1 + 0.04, r'$\\Sigma_\\text{pa}$')\n",
    "plt.text(S_1 + S_2/2, S_2 + 0.04, r'$\\Sigma_\\text{f}$')\n",
    "plt.text(1 - (S_s / (2*S_t)), S_s / S_t + 0.04, r'$\\Sigma_\\text{s}$')\n",
    "plt.savefig('hw3p4_pdf.png')\n",
    "plt.close(fig)"
   ]
  },
  {
   "cell_type": "code",
   "execution_count": 7,
   "id": "725df1f7",
   "metadata": {},
   "outputs": [],
   "source": [
    "def F(X):\n",
    "    r = []\n",
    "    for x in X:\n",
    "        if x <= S_1:\n",
    "            i = S_1\n",
    "        elif x <= S_2 + S_1:\n",
    "            i = (S_2 + S_1)\n",
    "        else:\n",
    "            i = 1\n",
    "        r += [i]\n",
    "    return np.array(r)"
   ]
  },
  {
   "cell_type": "code",
   "execution_count": 8,
   "id": "0a50ceb4",
   "metadata": {},
   "outputs": [],
   "source": [
    "xs = np.linspace(0,1, 100)\n",
    "\n",
    "fig, ax = plt.subplots()\n",
    "ax.plot(xs, F(xs))\n",
    "ax.set_xlim(-0.1,1.1)\n",
    "ax.set_ylim(-0.1,1.1)\n",
    "plt.text(S_1/2, S_1 + 0.04, r'$\\Sigma_\\text{pa}$')\n",
    "plt.text(S_1 + S_2/2, S_2 + S_1 + 0.04, r'$\\Sigma_\\text{a}$')\n",
    "plt.text(1 - (S_s / (2*S_t)), 1 + 0.04, r'$\\Sigma_\\text{t}$')\n",
    "ax.grid()\n",
    "plt.savefig('hw3p4_cdf.png')\n",
    "plt.close(fig)"
   ]
  }
 ],
 "metadata": {
  "kernelspec": {
   "display_name": "Python 3 (ipykernel)",
   "language": "python",
   "name": "python3"
  },
  "language_info": {
   "codemirror_mode": {
    "name": "ipython",
    "version": 3
   },
   "file_extension": ".py",
   "mimetype": "text/x-python",
   "name": "python",
   "nbconvert_exporter": "python",
   "pygments_lexer": "ipython3",
   "version": "3.11.3"
  }
 },
 "nbformat": 4,
 "nbformat_minor": 5
}
