{
 "cells": [
  {
   "cell_type": "code",
   "execution_count": 3,
   "id": "bbedd463",
   "metadata": {},
   "outputs": [
    {
     "name": "stdout",
     "output_type": "stream",
     "text": [
      "0\n",
      "1\n",
      "2\n"
     ]
    }
   ],
   "source": [
    "for i in range(0,3):\n",
    "    print(i)"
   ]
  },
  {
   "cell_type": "code",
   "execution_count": 4,
   "id": "2609d55d",
   "metadata": {},
   "outputs": [],
   "source": [
    "import numpy as np"
   ]
  },
  {
   "cell_type": "code",
   "execution_count": 5,
   "id": "ad0a1e7c",
   "metadata": {},
   "outputs": [
    {
     "data": {
      "text/plain": [
       "array([0, 1, 2, 3, 4])"
      ]
     },
     "execution_count": 5,
     "metadata": {},
     "output_type": "execute_result"
    }
   ],
   "source": [
    "np.arange(0,5,1)"
   ]
  },
  {
   "cell_type": "code",
   "execution_count": null,
   "id": "7a5c3403",
   "metadata": {
    "collapsed": true
   },
   "outputs": [],
   "source": [
    "\n",
    "def q_n(weights, phi_n, Sigma_s, Q):\n",
    "    return Q/2 + np.dot(weight, phi_n) * Sigma_s / 2\n",
    "## Main loop\n",
    "def iteration_loop(...):\n",
    "    indices = np.arange(0,N,1)\n",
    "    for mu in negative_mus:\n",
    "        while (not converged):\n",
    "            phi_nphalf = 0 # from vacuum BC\n",
    "            q_n = q_n(weights, phi0_n, Sigma_s, Q) \n",
    "\n",
    "            idxs = np.flip(indices)\n",
    "            for i in idxs:\n",
    "                alpha_n = 1 + (Sigma_t * Delta_x) / (2 * np.abs(mu))\n",
    "                beta_n = Delta_x / (2 * np.abs(mu))\n",
    "                phi_i = q_n * beta_n / alpha_n + phi_nphalf / alpha_n\n",
    "                phi_nmhalf = 2 * phi_i - phi_nphalf\n",
    "\n",
    "                # store phi_i in n row, i column of matrix\n",
    "                ...\n",
    "                \n",
    "                # do we store half index phi's?\n",
    "\n",
    "                phi_nphalf = phi_nmhalf\n"
   ]
  }
 ],
 "metadata": {
  "kernelspec": {
   "display_name": "Python 3 (ipykernel)",
   "language": "python",
   "name": "python3"
  },
  "language_info": {
   "codemirror_mode": {
    "name": "ipython",
    "version": 3
   },
   "file_extension": ".py",
   "mimetype": "text/x-python",
   "name": "python",
   "nbconvert_exporter": "python",
   "pygments_lexer": "ipython3",
   "version": "3.11.3"
  }
 },
 "nbformat": 4,
 "nbformat_minor": 5
}
